{
 "cells": [
  {
   "cell_type": "markdown",
   "id": "12ba6e3f",
   "metadata": {},
   "source": [
    "# Data Analysis South German Credit Data"
   ]
  },
  {
   "cell_type": "markdown",
   "id": "923e9cb7",
   "metadata": {},
   "source": [
    "Data and code from\n",
    "https://www.kaggle.com/code/vasukhajuria/south-german-credit-risk-analysis/notebook\n",
    "\n",
    "Extensive description of data set and its creation: http://www1.beuth-hochschule.de/FB_II/reports/Report-2019-004.pdf"
   ]
  },
  {
   "cell_type": "markdown",
   "id": "b3509eb8",
   "metadata": {},
   "source": [
    "The data are a stratified sample of 1000 credits (300 bad ones and 700 good ones) from the years 1973 to 1975 from a large regional bank in southern Germany, which had about 500 branches, among them both urban and rural ones. Bad credits are heavily oversampled, in order to acquire sufficient information for discriminating them from good ones; the sources report that\n",
    "the actual prevalence of bad credits is around 5%. In a Bayesian context, 5% might be used as a prior probability for a credit being bad. \n",
    "\n",
    "As suggested with the Statlog German credit data, one might consider misclassification cost, and it has been suggested to allocate the cost for misclassifying a bad risk as good to be five times as high than the cost for misclassifying a good risk as bad."
   ]
  },
  {
   "cell_type": "markdown",
   "id": "6f1b6326",
   "metadata": {},
   "source": [
    "### Variable description\n",
    "\n",
    "First name original german version, then English translation.\n",
    "\n",
    "1. laufkont -- status\n",
    ":  status of the debtor’s checking account with the bank (categorical)\n",
    "\n",
    "2. laufzeit -- duration\n",
    ":  credit duration in months (quantitative)\n",
    "\n",
    "3. moral -- credit_history\n",
    ":  history of compliance with previous or concurrent credit contracts (categorical)\n",
    "\n",
    "4. verw -- purpose\n",
    ":  purpose for which the credit is needed (categorical)\n",
    "\n",
    "5. hoehe -- amount\n",
    ":  credit amount in DM (quantitative; result of monotonic transformation; actual data and type of transformation unknown)\n",
    "\n",
    "6. sparkont -- savings\n",
    ":  debtor’s savings (categorical)\n",
    "\n",
    "7. beszeit -- employment_duration\n",
    ":  duration of debtor’s employment with current employer (ordinal; discretized quantitative)\n",
    "\n",
    "8. rate -- installment_rate\n",
    ":  credit installments as a percentage of debtor’s disposable income (ordinal; discretized quantitative)\n",
    "\n",
    "9. famges -- personal_status_sex\n",
    ":  combined information on sex and marital status; categorical; sex cannot be recovered from the\n",
    "variable, because male singles and female non-singles are coded with the same code (2); female widows\n",
    "cannot be easily classified, because the code table does not list them in any of the female categories\n",
    "\n",
    "10. buerge -- other_debtors\n",
    ":  Is there another debtor or a guarantor for the credit? (categorical)\n",
    "\n",
    "11. wohnzeit -- present_residence\n",
    ":  length of time (in years) the debtor lives in the present residence (ordinal; discretized quantitative)\n",
    "\n",
    "12. verm -- property\n",
    ":  the debtor’s most valuable property, i.e. the highest possible code is used. Code 2 is used, if\n",
    "codes 3 or 4 are not applicable and there is a car or any other relevant property that does not fall under\n",
    "variable sparkont. (ordinal)\n",
    "\n",
    "13. alter -- age\n",
    ":  age in years (quantitative)\n",
    "\n",
    "14. weitkred -- other_installment_plans\n",
    ":  installment plans from providers other than the credit-giving bank (categorical)\n",
    "\n",
    "15. wohn -- housing\n",
    ":  type of housing the debtor lives in (categorical)\n",
    "\n",
    "16. bishkred -- number_credits\n",
    ":  number of credits including the current one the debtor has (or had) at this bank (ordinal,\n",
    "discretized quantitative); contrary to Fahrmeir and Hamerle’s (1984) statement, the original data values\n",
    "are not available.\n",
    "\n",
    "17. beruf -- job\n",
    ":  quality of debtor’s job (ordinal)\n",
    "\n",
    "18. pers -- people_liable\n",
    ":  number of persons who financially depend on the debtor (i.e., are entitled to maintenance)\n",
    "(binary, discretized quantitative)\n",
    "\n",
    "19. telef -- telephone\n",
    ":  Is there a telephone landline registered on the debtor’s name? (binary; remember that the data\n",
    "are from the 1970s)\n",
    "\n",
    "20. gastarb -- foreign_worker\n",
    ":  Is the debtor a foreign worker? (binary)\n",
    "\n",
    "21. kredit -- credit_risk\n",
    ":  Has the credit contract been complied with (good) or not (bad) ? (binary)\n"
   ]
  },
  {
   "cell_type": "code",
   "execution_count": null,
   "id": "c61414ab",
   "metadata": {},
   "outputs": [],
   "source": [
    "import numpy as np\n",
    "import pandas as pd\n",
    "import seaborn as sns\n",
    "import matplotlib.pyplot as plt\n",
    "%matplotlib inline\n",
    "\n",
    "from scipy import stats\n",
    "from scipy.stats import norm,skew\n",
    "\n",
    "from subprocess import check_output\n",
    "\n",
    "from sklearn.model_selection import train_test_split\n",
    "from sklearn.model_selection import cross_val_score, KFold, GridSearchCV\n",
    "\n",
    "import warnings\n",
    "warnings.filterwarnings('ignore')"
   ]
  },
  {
   "cell_type": "code",
   "execution_count": null,
   "id": "2eeaf919",
   "metadata": {},
   "outputs": [],
   "source": [
    "df = pd.read_csv('SouthGermanCredit_clean.csv')"
   ]
  },
  {
   "cell_type": "code",
   "execution_count": null,
   "id": "65c02d30",
   "metadata": {},
   "outputs": [],
   "source": [
    "pd.set_option('display.max_columns', 25)\n",
    "df.head()"
   ]
  },
  {
   "cell_type": "code",
   "execution_count": null,
   "id": "c1ec6436",
   "metadata": {},
   "outputs": [],
   "source": [
    "df.info()"
   ]
  },
  {
   "cell_type": "markdown",
   "id": "c5bb41b8",
   "metadata": {},
   "source": [
    "## EDA"
   ]
  },
  {
   "cell_type": "code",
   "execution_count": null,
   "id": "093a416c",
   "metadata": {},
   "outputs": [],
   "source": [
    "sns.countplot(df['credit_risk'])"
   ]
  },
  {
   "cell_type": "markdown",
   "id": "a7720bd1",
   "metadata": {},
   "source": [
    "70% of the total records have good credit risk and 30% of records have bad credit risk.¶\n"
   ]
  },
  {
   "cell_type": "markdown",
   "id": "71b354a9",
   "metadata": {},
   "source": [
    "### Categorical data"
   ]
  },
  {
   "cell_type": "code",
   "execution_count": null,
   "id": "4d5db573",
   "metadata": {},
   "outputs": [],
   "source": [
    "categorical_columns = ['status','credit_history','purpose','savings','employment_duration','installment_rate','personal_status_sex','other_debtors','present_residence','property','other_installment_plans','housing','number_credits','job','people_liable','telephone','foreign_worker']"
   ]
  },
  {
   "cell_type": "code",
   "execution_count": null,
   "id": "891273fe",
   "metadata": {},
   "outputs": [],
   "source": [
    "# status\n",
    "fig, ax = plt.subplots(figsize=fig_dims)\n",
    "sns.countplot(x='status',data=df, order=df['status'].value_counts().index)"
   ]
  },
  {
   "cell_type": "markdown",
   "id": "15d1d914",
   "metadata": {},
   "source": [
    "- 39.4% of records have 200 DM or more balance in checking account\n",
    "- 27.4% of records have no checking account.\n",
    "- 26.9% of records have negative balance.\n",
    "- Only 6.3% of records have balance greater than 0 and less than 200 DM in checing account"
   ]
  },
  {
   "cell_type": "code",
   "execution_count": null,
   "id": "159fb9b5",
   "metadata": {},
   "outputs": [],
   "source": [
    "# credit_history\n",
    "fig_dims = (20, 6)\n",
    "fig, ax = plt.subplots(figsize=fig_dims)\n",
    "sns.countplot(x='credit_history', order=df['credit_history'].value_counts().index, data=df)"
   ]
  },
  {
   "cell_type": "code",
   "execution_count": null,
   "id": "bd629087",
   "metadata": {},
   "outputs": [],
   "source": [
    "# purpose\n",
    "fig_dims = (17, 6)\n",
    "fig, ax = plt.subplots(figsize=fig_dims)\n",
    "sns.countplot(x='purpose', order=df['purpose'].value_counts().index, data=df)"
   ]
  },
  {
   "cell_type": "code",
   "execution_count": null,
   "id": "5f8b50f9",
   "metadata": {},
   "outputs": [],
   "source": [
    "# savings\n",
    "fig_dims = (15, 6)\n",
    "fig, ax = plt.subplots(figsize=fig_dims)\n",
    "sns.countplot(x='savings', order=df['savings'].value_counts().index,data=df)"
   ]
  },
  {
   "cell_type": "markdown",
   "id": "bfc0e298",
   "metadata": {},
   "source": [
    "- More than 60% of records have either no savings accounts or it's unknown.\n"
   ]
  },
  {
   "cell_type": "code",
   "execution_count": null,
   "id": "b4f7444b",
   "metadata": {},
   "outputs": [],
   "source": [
    "# employment_duration\n",
    "fig_dims = (10, 6)\n",
    "fig, ax = plt.subplots(figsize=fig_dims)\n",
    "sns.countplot(x='employment_duration', order=df['employment_duration'].value_counts().index,data=df)"
   ]
  },
  {
   "cell_type": "code",
   "execution_count": null,
   "id": "a74ffad1",
   "metadata": {},
   "outputs": [],
   "source": [
    "# installment_rate of their disposable income\n",
    "fig_dims = (8, 6)\n",
    "fig, ax = plt.subplots(figsize=fig_dims)\n",
    "sns.countplot(x='installment_rate', order=df['installment_rate'].value_counts().index, data=df)"
   ]
  },
  {
   "cell_type": "markdown",
   "id": "6852d257",
   "metadata": {},
   "source": [
    "- 47.6% of people have installment rate less than 20% of their disposable (net) income.\n",
    "- 23.1% of people have installment rate between 25 to 35% of their disposable income.\n",
    "- 15.7% of people have installment rate between 20 to 25% of their disposable income.\n",
    "- 13.6% of records have installment rate greater than 35% of their disposable income. It means high loans are taken by only 13.6% of the people."
   ]
  },
  {
   "cell_type": "code",
   "execution_count": null,
   "id": "c821df29",
   "metadata": {},
   "outputs": [],
   "source": [
    "# personal_status_sex\n",
    "fig_dims = (15, 6)\n",
    "fig, ax = plt.subplots(figsize=fig_dims)\n",
    "sns.countplot(x='personal_status_sex', order=df['personal_status_sex'].value_counts().index, data=df)"
   ]
  },
  {
   "cell_type": "markdown",
   "id": "d8c1088f",
   "metadata": {},
   "source": [
    "- 54.8% of credits are taken by males who are either married or widowed.\n",
    "- 31% of credits are taken by females who are married or males who are single.\n",
    "- 9.2% of credits are taken by females who are single.\n",
    "- 5% of credits are taken by males who are divorced/separated."
   ]
  },
  {
   "cell_type": "code",
   "execution_count": null,
   "id": "27c871a8",
   "metadata": {},
   "outputs": [],
   "source": [
    "# other_debtors\n",
    "fig_dims = (10, 6)\n",
    "fig, ax = plt.subplots(figsize=fig_dims)\n",
    "sns.countplot(x='other_debtors', order=df['other_debtors'].value_counts().index, data=df)"
   ]
  },
  {
   "cell_type": "code",
   "execution_count": null,
   "id": "970dbfea",
   "metadata": {},
   "outputs": [],
   "source": [
    "# present_residence\n",
    "fig_dims = (10, 6)\n",
    "fig, ax = plt.subplots(figsize=fig_dims)\n",
    "sns.countplot(x='present_residence', order=df['present_residence'].value_counts().index, data=df)"
   ]
  },
  {
   "cell_type": "code",
   "execution_count": null,
   "id": "da5f4879",
   "metadata": {},
   "outputs": [],
   "source": [
    "# property\n",
    "fig_dims = (15, 6)\n",
    "fig, ax = plt.subplots(figsize=fig_dims)\n",
    "sns.countplot(x='property', order=df['property'].value_counts().index, data=df)"
   ]
  },
  {
   "cell_type": "markdown",
   "id": "01f1ee39",
   "metadata": {},
   "source": [
    "- 33.2% of credits are given to people who have building society, savings or life insurance as their most valued property.\n",
    "- 28.2% of credits are given to people who either don't have any property or it's unknown. This is critical as it can lead to bad credit risks.\n",
    "- 23.2 % of credits are granted to people whose most valued property is car or any other thing.\n",
    "- 15.4 % of credits are granted to people whose most valued property is real estate."
   ]
  },
  {
   "cell_type": "code",
   "execution_count": null,
   "id": "cac443bc",
   "metadata": {},
   "outputs": [],
   "source": [
    "# other_installment_plans\n",
    "fig_dims = (8,5)\n",
    "fig, ax = plt.subplots(figsize=fig_dims)\n",
    "sns.countplot(x='other_installment_plans', order=df['other_installment_plans'].value_counts().index, data=df)"
   ]
  },
  {
   "cell_type": "markdown",
   "id": "74787cc2",
   "metadata": {},
   "source": [
    "- 81.4% of records have no other installment plans.\n",
    "- 13.9% of records have other installment plans going on from banks other than the credit-giving bank.\n",
    "- 4.7% of records have other installment plans from stores."
   ]
  },
  {
   "cell_type": "code",
   "execution_count": null,
   "id": "c18cfe40",
   "metadata": {},
   "outputs": [],
   "source": [
    "# housing\n",
    "fig_dims = (8, 5)\n",
    "fig, ax = plt.subplots(figsize=fig_dims)\n",
    "sns.countplot(x='housing', order=df['housing'].value_counts().index, data=df)"
   ]
  },
  {
   "cell_type": "code",
   "execution_count": null,
   "id": "6358149c",
   "metadata": {},
   "outputs": [],
   "source": [
    "# number_credits at this bank\n",
    "fig_dims = (8, 5)\n",
    "fig, ax = plt.subplots(figsize=fig_dims)\n",
    "sns.countplot(x='number_credits', order=df['number_credits'].value_counts().index, data=df)"
   ]
  },
  {
   "cell_type": "code",
   "execution_count": null,
   "id": "73c89fdd",
   "metadata": {},
   "outputs": [],
   "source": [
    "# job\n",
    "fig_dims = (18, 6)\n",
    "fig, ax = plt.subplots(figsize=fig_dims)\n",
    "sns.countplot(x='job', order=df['job'].value_counts().index, data=df)"
   ]
  },
  {
   "cell_type": "code",
   "execution_count": null,
   "id": "aba35fa6",
   "metadata": {},
   "outputs": [],
   "source": [
    "# people_liable - number of people who are financially dependent on debtor\n",
    "fig_dims = (8, 5)\n",
    "fig, ax = plt.subplots(figsize=fig_dims)\n",
    "sns.countplot(x='people_liable', order=df['people_liable'].value_counts().index, data=df)"
   ]
  },
  {
   "cell_type": "code",
   "execution_count": null,
   "id": "fa952af6",
   "metadata": {},
   "outputs": [],
   "source": [
    "# telephone \n",
    "# Is there a telephone landline registered on the debtor’s name? (binary; remember that the data are from the 1970s)\n",
    "fig_dims = (8, 5)\n",
    "fig, ax = plt.subplots(figsize=fig_dims)\n",
    "sns.countplot(x='telephone', order=df['telephone'].value_counts().index, data=df)"
   ]
  },
  {
   "cell_type": "code",
   "execution_count": null,
   "id": "397167ea",
   "metadata": {},
   "outputs": [],
   "source": [
    "# foreign_worker\n",
    "fig_dims = (8, 5)\n",
    "fig, ax = plt.subplots(figsize=fig_dims)\n",
    "sns.countplot(x='foreign_worker', order=df['foreign_worker'].value_counts().index, data=df)"
   ]
  },
  {
   "cell_type": "markdown",
   "id": "c875eddf",
   "metadata": {},
   "source": [
    "### Numerical data\n",
    "As can be seen below, all of the numerical variables have some outliers and are right skewed. In order to get better results for the culster analysis, we use a power transformation. "
   ]
  },
  {
   "cell_type": "code",
   "execution_count": null,
   "id": "bf797ee2",
   "metadata": {},
   "outputs": [],
   "source": [
    "sns.distplot(df['duration'])\n",
    "print('Skewness of duration:',df['duration'].skew())"
   ]
  },
  {
   "cell_type": "code",
   "execution_count": null,
   "id": "0c340f7b",
   "metadata": {},
   "outputs": [],
   "source": [
    "sns.distplot(df['duration'])\n",
    "print('Skewness of duration:',df['duration'].skew())\n",
    "sns.boxplot(df['duration'])"
   ]
  },
  {
   "cell_type": "markdown",
   "id": "31a7c28a",
   "metadata": {},
   "source": [
    "Only few outliers in 'duration' column.\n",
    "Data is right skewed."
   ]
  },
  {
   "cell_type": "code",
   "execution_count": null,
   "id": "c554ee6c",
   "metadata": {},
   "outputs": [],
   "source": [
    "sns.distplot(df['amount'])\n",
    "print('Skewness of duration:',df['amount'].skew())"
   ]
  },
  {
   "cell_type": "code",
   "execution_count": null,
   "id": "9ae1f3de",
   "metadata": {},
   "outputs": [],
   "source": [
    "sns.distplot(df['amount'])\n",
    "print('Skewness of duration:',df['amount'].skew())\n",
    "sns.boxplot(df['amount'])"
   ]
  },
  {
   "cell_type": "markdown",
   "id": "e1fafcc3",
   "metadata": {},
   "source": [
    "Lot of outliers in 'amount' column.\n",
    "Data is highly right skewed."
   ]
  },
  {
   "cell_type": "code",
   "execution_count": null,
   "id": "244012fe",
   "metadata": {},
   "outputs": [],
   "source": [
    "sns.distplot(df['age'])\n",
    "print('Skewness of age:',df['age'].skew())"
   ]
  },
  {
   "cell_type": "code",
   "execution_count": null,
   "id": "a8e12ab4",
   "metadata": {},
   "outputs": [],
   "source": [
    "sns.distplot(df['age'])\n",
    "print('Skewness of age:',df['age'].skew())\n",
    "sns.boxplot(df['age'])"
   ]
  },
  {
   "cell_type": "markdown",
   "id": "ff89a7af",
   "metadata": {},
   "source": [
    "Some outliers in 'age' column.\n",
    "Data is slightly right skewed."
   ]
  },
  {
   "cell_type": "markdown",
   "id": "6d8171a6",
   "metadata": {},
   "source": [
    "### Bivariante analysis"
   ]
  },
  {
   "cell_type": "code",
   "execution_count": null,
   "id": "ec9c2a4e",
   "metadata": {},
   "outputs": [],
   "source": [
    "corr = df.corr()\n",
    "sns.heatmap(corr, cmap=\"Greens\",annot=True)"
   ]
  },
  {
   "cell_type": "code",
   "execution_count": null,
   "id": "ebd7e1f1",
   "metadata": {},
   "outputs": [],
   "source": [
    "sns.pairplot(df, hue = 'credit_risk')"
   ]
  },
  {
   "cell_type": "markdown",
   "id": "fd1061a6",
   "metadata": {},
   "source": [
    "#### Bivariate analysis could be continued for a good understanding of the data"
   ]
  },
  {
   "cell_type": "markdown",
   "id": "a0bee309",
   "metadata": {},
   "source": [
    "### Outlier Treatment"
   ]
  },
  {
   "cell_type": "code",
   "execution_count": null,
   "id": "da2d128f",
   "metadata": {},
   "outputs": [],
   "source": [
    "# Power Transformer\n",
    "from sklearn.preprocessing import PowerTransformer"
   ]
  },
  {
   "cell_type": "code",
   "execution_count": null,
   "id": "54a2a0ee",
   "metadata": {},
   "outputs": [],
   "source": [
    "numerical_columns = ['duration','amount','age']"
   ]
  },
  {
   "cell_type": "code",
   "execution_count": null,
   "id": "4640e198",
   "metadata": {},
   "outputs": [],
   "source": [
    "df_continuous = df[numerical_columns]\n",
    "df_continuous.head()"
   ]
  },
  {
   "cell_type": "code",
   "execution_count": null,
   "id": "ed269194",
   "metadata": {},
   "outputs": [],
   "source": [
    "pt = PowerTransformer(method='box-cox')\n",
    "power_transformed_array = pt.fit_transform(df_continuous)"
   ]
  },
  {
   "cell_type": "code",
   "execution_count": null,
   "id": "ffa82df9",
   "metadata": {},
   "outputs": [],
   "source": [
    "ptdf_cont = pd.DataFrame(data = power_transformed_array, columns = df_continuous.columns)\n",
    "ptdf_cont.head()"
   ]
  },
  {
   "cell_type": "code",
   "execution_count": null,
   "id": "a7134855",
   "metadata": {},
   "outputs": [],
   "source": [
    "for i in ptdf_cont.columns:\n",
    "    sns.boxplot(ptdf_cont[i])\n",
    "    print(\"skewness of \",i,\":\",ptdf_cont[i].skew())\n",
    "    plt.show()  "
   ]
  },
  {
   "cell_type": "code",
   "execution_count": null,
   "id": "1244c9b2",
   "metadata": {},
   "outputs": [],
   "source": [
    "# new dataframed with power-transformed variables\n",
    "ptdf = df.copy()\n",
    "\n",
    "for col in ptdf_cont.columns:\n",
    "    ptdf[col] = ptdf_cont[col]"
   ]
  },
  {
   "cell_type": "code",
   "execution_count": null,
   "id": "a52bac99",
   "metadata": {},
   "outputs": [],
   "source": [
    "sns.heatmap(ptdf[numerical_columns].corr(),annot=True)"
   ]
  },
  {
   "cell_type": "code",
   "execution_count": null,
   "id": "a5e6166d",
   "metadata": {},
   "outputs": [],
   "source": [
    "# A variance inflation factor (VIF) is a measure of the amount of \n",
    "# multicollinearity in regression analysis\n",
    "# As a rule of thumb, a VIF of three or below is not a cause for concern\n",
    "from statsmodels.stats.outliers_influence import variance_inflation_factor as vif\n",
    "\n",
    "vf = [vif(ptdf[numerical_columns].values, i ) for i in range(ptdf[numerical_columns].shape[1])]\n",
    "pd.DataFrame(vf, index=numerical_columns, columns= [\"vif\"])"
   ]
  },
  {
   "cell_type": "code",
   "execution_count": null,
   "id": "5b4d1e3f",
   "metadata": {},
   "outputs": [],
   "source": [
    "ptdf.head()"
   ]
  },
  {
   "cell_type": "markdown",
   "id": "87124af9",
   "metadata": {},
   "source": [
    "## K Means Cluster Creation"
   ]
  },
  {
   "cell_type": "code",
   "execution_count": null,
   "id": "b82877a9",
   "metadata": {},
   "outputs": [],
   "source": [
    "# for running KPrototypes which is a variant of k-means that can handle categorical and numerical variables"
   ]
  },
  {
   "cell_type": "code",
   "execution_count": null,
   "id": "7d415332",
   "metadata": {},
   "outputs": [],
   "source": [
    "pip install kmodes "
   ]
  },
  {
   "cell_type": "code",
   "execution_count": null,
   "id": "b52b8003",
   "metadata": {},
   "outputs": [],
   "source": [
    "# Import the necessary libraries\n",
    "import pandas as pd\n",
    "from kmodes.kprototypes import KPrototypes\n",
    "\n",
    "# Separate the numerical and categorical variables into two separate dataframes\n",
    "# num_df = df.select_dtypes(include=['int', 'float']) # Numerical variables\n",
    "# cat_df = df.select_dtypes(include=['object']) # Categorical variables"
   ]
  },
  {
   "cell_type": "markdown",
   "id": "46d2bb02",
   "metadata": {},
   "source": [
    "#### Preprocess the data if necessary\n",
    "One Hot Encoding: For categorical variables where no ordinal relationship exists, integer encoding (i.e. transforming each category of a variable into a number)  is not enough.\n",
    "\n",
    "In fact, using this encoding and allowing the model to assume a natural ordering between categories may result in poor performance or unexpected results (predictions halfway between categories).\n",
    "\n",
    "In this case, a one-hot encoding can be applied to the integer representation. This is where the integer encoded variable is removed and a new binary variable is added for each unique integer value."
   ]
  },
  {
   "cell_type": "code",
   "execution_count": null,
   "id": "bb27f1ab",
   "metadata": {},
   "outputs": [],
   "source": [
    "ptdf.info()"
   ]
  },
  {
   "cell_type": "code",
   "execution_count": null,
   "id": "e0b46b63",
   "metadata": {},
   "outputs": [],
   "source": [
    "ptdf_encoded = pd.get_dummies(ptdf, columns=['status', 'credit_history', 'purpose', 'savings', 'employment_duration',\n",
    "                                        'installment_rate', 'personal_status_sex', 'other_debtors', 'present_residence',\n",
    "                                        'property', 'other_installment_plans', 'housing', 'number_credits', 'job',\n",
    "                                        'people_liable', 'telephone', 'foreign_worker', 'credit_risk'])"
   ]
  },
  {
   "cell_type": "code",
   "execution_count": null,
   "id": "b3708e95",
   "metadata": {},
   "outputs": [],
   "source": [
    "# in new data frame df_encoded categorical varialbes are replaced with dummy variables\n",
    "ptdf_encoded.head(5)"
   ]
  },
  {
   "cell_type": "code",
   "execution_count": null,
   "id": "d356dfff",
   "metadata": {},
   "outputs": [],
   "source": [
    "# defining variables that are categorical indicators\n",
    "num_cols = ['duration', 'amount', 'age']\n",
    "cat_cols = [col for col in ptdf_encoded.columns if col not in num_cols]\n",
    "\n",
    "cat_indices = [ptdf_encoded.columns.get_loc(col) for col in cat_cols]"
   ]
  },
  {
   "cell_type": "code",
   "execution_count": null,
   "id": "f7a7a21c",
   "metadata": {},
   "outputs": [],
   "source": [
    "# Run cluster analysis \n",
    "cost = []\n",
    "for num_clusters in range(1, 10):\n",
    "    kproto = KPrototypes(n_clusters=num_clusters, init='Cao', n_init=10, max_iter=20, random_state=0)\n",
    "    clusters = kproto.fit_predict(ptdf_encoded.values, categorical=cat_indices)\n",
    "    try:\n",
    "        cost.append(kproto.cost_)\n",
    "    except:\n",
    "        print(f\"Error computing cost for num_clusters = {num_clusters}\")\n",
    "    print(f\"num_clusters = {num_clusters}, cost = {kproto.cost_}\")\n"
   ]
  },
  {
   "cell_type": "code",
   "execution_count": null,
   "id": "2965d206",
   "metadata": {},
   "outputs": [],
   "source": [
    "# Plot the elbow curve to visually identify the optimal number of clusters\n",
    "plt.plot(range(1, 10), cost)\n",
    "#alternatively if line before does not work: plt.plot(range(1, len(cost)+1), cost)\n",
    "plt.title('Elbow Method')\n",
    "plt.xlabel('Number of clusters')\n",
    "plt.ylabel('Cost')\n",
    "plt.show()"
   ]
  },
  {
   "cell_type": "code",
   "execution_count": null,
   "id": "0ee3cf0d",
   "metadata": {},
   "outputs": [],
   "source": [
    "# Based on the elbow curve, determine the optimal number of clusters and fit the k-prototypes model\n",
    "kproto = KPrototypes(n_clusters=3, init='Cao', n_init=10, max_iter=20, random_state=0)\n",
    "clusters = kproto.fit_predict(ptdf_encoded.values, categorical=cat_indices)"
   ]
  },
  {
   "cell_type": "code",
   "execution_count": null,
   "id": "0c3084c8",
   "metadata": {},
   "outputs": [],
   "source": [
    "# Add the cluster labels to the dataframe\n",
    "ptdf_encoded['Cluster'] = clusters\n",
    "\n",
    "# Add the cluster names to the original data set\n",
    "df['Cluster'] = clusters"
   ]
  },
  {
   "cell_type": "code",
   "execution_count": null,
   "id": "4ecf1b33",
   "metadata": {},
   "outputs": [],
   "source": [
    "ptdf_encoded.head()"
   ]
  },
  {
   "cell_type": "code",
   "execution_count": null,
   "id": "352976cb",
   "metadata": {},
   "outputs": [],
   "source": [
    "df.head()"
   ]
  },
  {
   "cell_type": "markdown",
   "id": "27ed00e7",
   "metadata": {},
   "source": [
    "## EDA with clusters"
   ]
  },
  {
   "cell_type": "markdown",
   "id": "d66eb5b7",
   "metadata": {},
   "source": [
    "#### Numerical variables"
   ]
  },
  {
   "cell_type": "code",
   "execution_count": null,
   "id": "ca01ebad",
   "metadata": {},
   "outputs": [],
   "source": [
    "# assume the numerical variables in df are stored in columns that have numerical data type\n",
    "num_cols = df.select_dtypes(include=['int64', 'float64', 'uint16']).columns.tolist()\n",
    "\n",
    "# create a new dataframe called df_num with numerical and 'Cluster' variables\n",
    "df_num = df[num_cols]\n",
    "\n",
    "df_num.head()"
   ]
  },
  {
   "cell_type": "code",
   "execution_count": null,
   "id": "f2ec6cce",
   "metadata": {},
   "outputs": [],
   "source": [
    "df_num_mean = df_num.groupby('Cluster').mean()\n",
    "df_num_mean "
   ]
  },
  {
   "cell_type": "code",
   "execution_count": null,
   "id": "3292f5c7",
   "metadata": {},
   "outputs": [],
   "source": [
    "df_num_median = df_num.groupby('Cluster').median()\n",
    "df_num_median"
   ]
  },
  {
   "cell_type": "code",
   "execution_count": null,
   "id": "a25a36ca",
   "metadata": {},
   "outputs": [],
   "source": [
    "# Save the DataFrame as an Excel file\n",
    "filename = 'cluster_numerical_result.xlsx'  # Set the filename\n",
    "df_num_median.to_excel(filename, index=True)"
   ]
  },
  {
   "cell_type": "markdown",
   "id": "516a3a96",
   "metadata": {},
   "source": [
    "0: largest amount of credit, longest duration, only middle age\n",
    "\n",
    "1: old, smaller amount and smaller duration\n",
    "\n",
    "2: youngest, smaller amount and smaller duration"
   ]
  },
  {
   "cell_type": "code",
   "execution_count": null,
   "id": "aba50026",
   "metadata": {},
   "outputs": [],
   "source": [
    "import matplotlib.pyplot as plt\n",
    "from mpl_toolkits.mplot3d import Axes3D\n",
    "\n",
    "# assume df contains numerical variables 'duration', 'amount', 'age', and a categorical variable 'Cluster'\n",
    "\n",
    "# create a 3D scatter plot of 'duration', 'amount', and 'age' for each value of 'Cluster'\n",
    "fig = plt.figure()\n",
    "ax = fig.add_subplot(111, projection='3d')\n",
    "#ax.view_init(elev=30, azim=115  )  # add rotation\n",
    "colors = ['r', 'g', 'b']\n",
    "\n",
    "for i, c in enumerate(df['Cluster'].unique()):\n",
    "    x = df.loc[df['Cluster'] == c, 'duration']\n",
    "    y = df.loc[df['Cluster'] == c, 'amount']\n",
    "    z = df.loc[df['Cluster'] == c, 'age']\n",
    "    ax.scatter(x, y, z, c=colors[i], alpha=0.2, label='Cluster {}'.format(c))\n",
    "\n",
    "ax.set_xlabel('Duration')\n",
    "ax.set_ylabel('Amount')\n",
    "ax.set_zlabel('Age')\n",
    "ax.legend()\n",
    "\n",
    "plt.show()"
   ]
  },
  {
   "cell_type": "markdown",
   "id": "67bd163e",
   "metadata": {},
   "source": [
    "2: closest toghether\n",
    "\n",
    "0: farthest apart"
   ]
  },
  {
   "cell_type": "code",
   "execution_count": null,
   "id": "35bd75da",
   "metadata": {},
   "outputs": [],
   "source": [
    "sns.pairplot(df, hue = 'Cluster', palette=['b', 'g', 'r'])"
   ]
  },
  {
   "cell_type": "markdown",
   "id": "92b41ee2",
   "metadata": {},
   "source": [
    "#### Categorical variables"
   ]
  },
  {
   "cell_type": "code",
   "execution_count": null,
   "id": "edac7971",
   "metadata": {},
   "outputs": [],
   "source": [
    "# assume the categorical variables in df are stored in columns that have categorical data type\n",
    "cat_cols = df.select_dtypes(include=['object', 'uint16']).columns.tolist()\n",
    "\n",
    "# create a new dataframe called df_num with numerical and 'Cluster' variables\n",
    "df_cat = df[cat_cols]\n",
    "\n",
    "df_cat.head()"
   ]
  },
  {
   "cell_type": "code",
   "execution_count": null,
   "id": "5b4fb687",
   "metadata": {},
   "outputs": [],
   "source": [
    "# Group by 'Cluster' and show percentage of each category rounded to 0 decimal places\n",
    "for col in df_cat.columns:\n",
    "    print(df_cat.groupby('Cluster')[col].value_counts(normalize=True).mul(100).round(0))\n",
    "\n"
   ]
  },
  {
   "cell_type": "code",
   "execution_count": null,
   "id": "879a7dbd",
   "metadata": {},
   "outputs": [],
   "source": [
    "!pip install xlwt"
   ]
  },
  {
   "cell_type": "code",
   "execution_count": null,
   "id": "e2537cae",
   "metadata": {},
   "outputs": [],
   "source": [
    "# save as an xls table\n",
    "\n",
    "result = pd.DataFrame(columns=['Cluster', 'Column', 'Category', 'Percentage'])\n",
    "\n",
    "# Add Cluster column to result DataFrame\n",
    "#result['Cluster'] = df_cat['Cluster']\n",
    "\n",
    "for col in df_cat.columns.drop('Cluster'):\n",
    "    sub_df = df_cat.groupby('Cluster')[col].value_counts(normalize=True).mul(100).round(2).reset_index(name='Percentage')\n",
    "    sub_df.columns = ['Cluster', 'Category', 'Percentage']\n",
    "    sub_df['Column'] = col\n",
    "    result = pd.concat([result, sub_df])\n",
    "\n",
    "# Sort the result DataFrame by Cluster and Column\n",
    "result = result.sort_values(['Cluster', 'Column'])\n",
    "\n",
    "# Reset the index of the result DataFrame\n",
    "result = result.reset_index(drop=True)\n",
    "\n",
    "# save\n",
    "result.to_excel('cluster_category_result.xls', index=False)"
   ]
  }
 ],
 "metadata": {
  "kernelspec": {
   "display_name": "Python 3 (ipykernel)",
   "language": "python",
   "name": "python3"
  },
  "language_info": {
   "codemirror_mode": {
    "name": "ipython",
    "version": 3
   },
   "file_extension": ".py",
   "mimetype": "text/x-python",
   "name": "python",
   "nbconvert_exporter": "python",
   "pygments_lexer": "ipython3",
   "version": "3.10.9"
  }
 },
 "nbformat": 4,
 "nbformat_minor": 5
}
